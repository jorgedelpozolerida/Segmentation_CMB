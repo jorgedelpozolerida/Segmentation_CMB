{
 "cells": [
  {
   "cell_type": "code",
   "execution_count": null,
   "metadata": {},
   "outputs": [],
   "source": [
    "import nibabel as nib\n",
    "import pandas as pd\n",
    "import numpy as np\n",
    "import matplotlib.pyplot as plt\n",
    "import imageio \n",
    "from nilearn.image import resample_to_img, resample_img\n",
    "from nilearn import plotting\n",
    "from scipy.ndimage import center_of_mass, measurements\n",
    "import pickle\n"
   ]
  },
  {
   "cell_type": "code",
   "execution_count": null,
   "metadata": {},
   "outputs": [],
   "source": [
    "def read_all_niftis_raw(sub, data_dir):\n",
    "    mask = nib.load(f\"{data_dir}/sub-{sub}/sub-{sub}_space-T2S_CMB.nii.gz\")\n",
    "    t2s = nib.load(f\"{data_dir}/sub-{sub}/sub-{sub}_space-T2S_desc-masked_T2S.nii.gz\")\n",
    "    t2 = nib.load(f\"{data_dir}/sub-{sub}/sub-{sub}_space-T2S_desc-masked_T2.nii.gz\")\n",
    "    t1 = nib.load(f\"{data_dir}/sub-{sub}/sub-{sub}_space-T2S_desc-masked_T1.nii.gz\")\n",
    "\n",
    "    return mask, t2s, t2, t1\n",
    "\n",
    "\n",
    "def read_data_processed(sub, data_dir):\n",
    "    \n",
    "    cmb, mri = nib.load(f\"{data_dir}/Annotations/sub-{sub}.nii.gz\"), nib.load(f\"{data_dir}/MRIs/sub-{sub}.nii.gz\")\n",
    "    with open(f\"{data_dir}/Annotations_metadata/sub-{sub}_raw.pkl\", \"rb\") as file:\n",
    "        metadata_raw = pickle.load(file)\n",
    "    with open(f\"{data_dir}/Annotations_metadata/sub-{sub}_processed.pkl\", \"rb\") as file:\n",
    "        metadata_processed = pickle.load(file)\n",
    "        \n",
    "    return cmb, mri, metadata_raw, metadata_processed\n",
    "\n",
    "def plot_mask_on_image(img_data, mask_data, cm_coords, alpha=0.5, title=\"\"):\n",
    "\n",
    "    # Ensure that both the image and the mask have the same shape\n",
    "    assert img_data.shape == mask_data.shape, \"Image and mask have different shapes!\"\n",
    "    \n",
    "    # Find the center of mass of the mask\n",
    "    x, y, z = int(cm_coords[0]), int(cm_coords[1]), int(cm_coords[2])\n",
    "    \n",
    "    fig, axes = plt.subplots(1, 3, figsize=(15, 5))\n",
    "    \n",
    "    # Plot slices from each dimension at the center of mass\n",
    "    axes[0].imshow(img_data[x, :, :], cmap='gray')\n",
    "    axes[0].imshow(mask_data[x, :, :], alpha=0.5, cmap='Reds', interpolation='none')\n",
    "    axes[0].set_title(f\"Sagittal plane at x={x}\")\n",
    "\n",
    "    axes[1].imshow(img_data[:, y, :], cmap='gray')\n",
    "    axes[1].imshow(mask_data[:, y, :], alpha=0.5, cmap='Reds', interpolation='none')\n",
    "    axes[1].set_title(f\"Coronal plane at y={y}\")\n",
    "\n",
    "    axes[2].imshow(img_data[:, :, z], cmap='gray')\n",
    "    axes[2].imshow(mask_data[:, :, z], alpha=0.5, cmap='Reds', interpolation='none')\n",
    "    axes[2].set_title(f\"Axial plane at z={z}\")\n",
    "\n",
    "    fig.suptitle(title)\n",
    "    plt.tight_layout()\n",
    "    plt.show()"
   ]
  },
  {
   "cell_type": "markdown",
   "metadata": {},
   "source": [
    "### Load data"
   ]
  },
  {
   "cell_type": "code",
   "execution_count": null,
   "metadata": {},
   "outputs": [],
   "source": [
    "sub = 102\n",
    "\n",
    "# rawdata\n",
    "data_dir = \"/datadrive_m2/jorge/data/VALDO\"\n",
    "mask, t2s, t2, t1 = read_all_niftis_raw(sub, data_dir)\n",
    "\n",
    "# newdata\n",
    "data_dir = \"/datadrive_m2/jorge/TEST/VALDO/Data\"\n",
    "cmb, mri, metadata_raw, metadata_processed = read_data_processed(sub, data_dir)"
   ]
  },
  {
   "cell_type": "markdown",
   "metadata": {},
   "source": [
    "# Visualize rawdata vs. processed"
   ]
  },
  {
   "cell_type": "code",
   "execution_count": null,
   "metadata": {},
   "outputs": [],
   "source": [
    "for coords_old, coords_new in zip(metadata_raw['T2S'][0], metadata_pro['T2S'][0]):\n",
    "    plot_mask_on_image(t2s.get_fdata()[:, :, :], mask.get_fdata()[:, :, :], cm_coords=coords_old, alpha=0.5, title=\"RAWDATA\")\n",
    "    plot_mask_on_image(mri.get_fdata()[:, :, :, 0], cmb.get_fdata()[:, :, :, 0], cm_coords=coords_new, alpha=0.5, title=\"PROCESSED DATA\")"
   ]
  }
 ],
 "metadata": {
  "kernelspec": {
   "display_name": "crbr",
   "language": "python",
   "name": "python3"
  },
  "language_info": {
   "codemirror_mode": {
    "name": "ipython",
    "version": 3
   },
   "file_extension": ".py",
   "mimetype": "text/x-python",
   "name": "python",
   "nbconvert_exporter": "python",
   "pygments_lexer": "ipython3",
   "version": "3.11.3"
  },
  "orig_nbformat": 4
 },
 "nbformat": 4,
 "nbformat_minor": 2
}
